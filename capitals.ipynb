{
 "cells": [
  {
   "cell_type": "code",
   "execution_count": 14,
   "metadata": {},
   "outputs": [],
   "source": [
    "state_capitals = []\n",
    "\n",
    "with open('StateCapitols.csv', 'r') as f:\n",
    "    for line in f:\n",
    "        line = line.strip()\n",
    "        index = 0\n",
    "        while True:\n",
    "            state = line.split(',')\n",
    "            index += 1\n",
    "            if index == 3:\n",
    "                state_capitals.append(state)\n",
    "                break\n",
    "                "
   ]
  },
  {
   "cell_type": "code",
   "execution_count": 15,
   "metadata": {},
   "outputs": [],
   "source": [
    "class Capital():\n",
    "\n",
    "    def __init__(self, state, latitude, longitude):\n",
    "        self.state = state\n",
    "        self.latitude = latitude\n",
    "        self.longitude = longitude\n",
    "\n",
    "    def get_state(self):\n",
    "        return self.state\n",
    "\n",
    "    def get_latitude(self):\n",
    "        return float(self.latitude)\n",
    "\n",
    "    def get_longitude(self):\n",
    "        return float(self.longitude)\n",
    "    "
   ]
  },
  {
   "cell_type": "code",
   "execution_count": 16,
   "metadata": {},
   "outputs": [],
   "source": [
    "def haversine(latitude_one, longitude_one, latitude_two, longitude_two):\n",
    "    import math\n",
    "\n",
    "    R = 6371000\n",
    "\n",
    "    phi_1 = math.radians(latitude_one)\n",
    "    phi_2 = math.radians(latitude_two)\n",
    "\n",
    "    delta_phi = math.radians(latitude_two - latitude_one)\n",
    "    delta_lambda = math.radians(longitude_two - longitude_one)\n",
    "\n",
    "    a = math.sin(delta_phi / 2.0) ** 2 + math.cos(phi_1) * math.cos(phi_2) * math.sin(delta_lambda / 2.0) ** 2\n",
    "\n",
    "    c = 2 * math.atan2(math.sqrt(a), math.sqrt(1 - a))\n",
    "\n",
    "    meters = R * c\n",
    "    kilometers = meters / 1000\n",
    "\n",
    "    return round(kilometers)\n"
   ]
  },
  {
   "cell_type": "code",
   "execution_count": 17,
   "metadata": {},
   "outputs": [],
   "source": [
    "def get_capital():\n",
    "    user_capital = input('Enter the name of a capital: ')\n",
    "\n",
    "    for capital in state_capitals:\n",
    "        for attribute in capital:\n",
    "            if user_capital in attribute or user_capital in attribute.lower():\n",
    "                state_one = capital[0]\n",
    "                name_one = capital[1]\n",
    "                latitude_one = capital[2]\n",
    "                longitude_one = capital[3]\n",
    "    \n",
    "    name_one = Capital(state_one, latitude_one, longitude_one)\n",
    "    return name_one"
   ]
  },
  {
   "cell_type": "code",
   "execution_count": 18,
   "metadata": {},
   "outputs": [],
   "source": [
    "capital_one = get_capital()\n",
    "captial_two = get_capital()"
   ]
  },
  {
   "cell_type": "code",
   "execution_count": 19,
   "metadata": {},
   "outputs": [],
   "source": [
    "result  = haversine(capital_one.get_latitude(), capital_one.get_longitude(), captial_two.get_latitude(), captial_two.get_longitude())"
   ]
  },
  {
   "cell_type": "code",
   "execution_count": 20,
   "metadata": {},
   "outputs": [
    {
     "name": "stdout",
     "output_type": "stream",
     "text": [
      "The distance between the two capitals is 4001 km.\n"
     ]
    }
   ],
   "source": [
    "print('The distance between the two capitals is {} km.'.format(result))"
   ]
  },
  {
   "cell_type": "code",
   "execution_count": null,
   "metadata": {},
   "outputs": [],
   "source": []
  }
 ],
 "metadata": {
  "kernelspec": {
   "display_name": "Python 3",
   "language": "python",
   "name": "python3"
  },
  "language_info": {
   "codemirror_mode": {
    "name": "ipython",
    "version": 3
   },
   "file_extension": ".py",
   "mimetype": "text/x-python",
   "name": "python",
   "nbconvert_exporter": "python",
   "pygments_lexer": "ipython3",
   "version": "3.6.4"
  }
 },
 "nbformat": 4,
 "nbformat_minor": 2
}
